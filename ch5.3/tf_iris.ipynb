{
 "cells": [
  {
   "cell_type": "code",
   "execution_count": 9,
   "metadata": {},
   "outputs": [
    {
     "name": "stderr",
     "output_type": "stream",
     "text": [
      "/Users/yuki-t/.pyenv/versions/anaconda3-5.0.0/envs/py35/lib/python3.5/site-packages/sklearn/model_selection/_split.py:2026: FutureWarning: From version 0.21, test_size will always complement train_size unless both are specified.\n",
      "  FutureWarning)\n"
     ]
    },
    {
     "name": "stdout",
     "output_type": "stream",
     "text": [
      "正解率： 1.0\n"
     ]
    }
   ],
   "source": [
    "import pandas as pd\n",
    "import numpy as np\n",
    "import tensorflow as tf\n",
    "from sklearn.model_selection import train_test_split\n",
    "\n",
    "iris_data = pd.read_csv(\"iris.csv\", encoding =\"utf-8\")\n",
    "\n",
    "y_labels = iris_data.loc[:,\"Name\"]\n",
    "x_data = iris_data.loc[:,[\"SepalLength\",\"SepalWidth\",\"PetalLength\",\"PetalWidth\"]]\n",
    "\n",
    "# tensorflowでの表現のためone-hotベクトル化\n",
    "labels = {\n",
    "    'Iris-setosa': [1,0,0],\n",
    "    'Iris-versicolor':[0,1,0],\n",
    "    'Iris-virginica':[0,0,1]\n",
    "}\n",
    "\n",
    "# nameラベルのリストが、ベクトルの配列に\n",
    "y_nums = np.array(list(map(lambda v: labels[v], y_labels)))\n",
    "x_data = np.array(x_data)\n",
    "\n",
    "# 学習用とテスト用にデータ分割\n",
    "x_train, x_test, y_train, y_test = train_test_split(x_data, y_nums,train_size = 0.8)\n",
    "# 入力値４次元、出力値３次元\n",
    "x = tf.placeholder(tf.float32, [None,4])\n",
    "y_ = tf.placeholder(tf.float32, [None,3])\n",
    "\n",
    "# 重みとバイアスのための変数定義\n",
    "w = tf.Variable(tf.zeros([4,3])) # 重み\n",
    "b = tf.Variable(tf.zeros([3])) # バイアス\n",
    "\n",
    "# ソフトマックス回帰を定義\n",
    "# 無制限の入力を0-1に変換\n",
    "y = tf.nn.softmax(tf.matmul(x,w) + b)\n",
    "                \n",
    "# モデル訓練\n",
    "# reduce_sum配列の全ての要素足し算 クロスエントロピーの定義に基づいて計算\n",
    "cross_entropy = -tf.reduce_sum(y_ * tf.log(y))\n",
    "optimizer = tf.train.AdamOptimizer(0.05)\n",
    "train = optimizer.minimize(cross_entropy)\n",
    "                \n",
    "# 正解率\n",
    "# argmax最大値のインデックスを返す \n",
    "# equal() 引数一致で1、不一致で０返す\n",
    "predict = tf.equal(tf.argmax(y, 1), tf.argmax(y_,1))\n",
    "# tf.cast( 変換したいもの , 変換後の型 )\n",
    "# tf.reduce_mean　与えたリストに入っている数値の平均値を求める関数\n",
    "accuracy = tf.reduce_mean(tf.cast(predict, tf.float32))\n",
    "\n",
    "# セッション開始して変数を初期化\n",
    "init = tf.global_variables_initializer()\n",
    "sess = tf.Session()\n",
    "sess.run(init)\n",
    "\n",
    "# 学習を実行\n",
    "train_feed_dict = {x : x_train, y_ : y_train}\n",
    "for step in range(300) :\n",
    "    sess.run(train, feed_dict = train_feed_dict)\n",
    "    \n",
    "# テストデータ利用して予測\n",
    "acc = sess.run(accuracy, feed_dict={x : x_test, y_ : y_test})\n",
    "print(\"正解率：\", acc)"
   ]
  },
  {
   "cell_type": "code",
   "execution_count": null,
   "metadata": {},
   "outputs": [],
   "source": []
  }
 ],
 "metadata": {
  "kernelspec": {
   "display_name": "Python 3",
   "language": "python",
   "name": "python3"
  },
  "language_info": {
   "codemirror_mode": {
    "name": "ipython",
    "version": 3
   },
   "file_extension": ".py",
   "mimetype": "text/x-python",
   "name": "python",
   "nbconvert_exporter": "python",
   "pygments_lexer": "ipython3",
   "version": "3.5.4"
  }
 },
 "nbformat": 4,
 "nbformat_minor": 2
}
