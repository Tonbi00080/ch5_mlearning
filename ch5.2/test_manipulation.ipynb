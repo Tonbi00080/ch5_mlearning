{
 "cells": [
  {
   "cell_type": "code",
   "execution_count": 2,
   "metadata": {},
   "outputs": [
    {
     "name": "stdout",
     "output_type": "stream",
     "text": [
      "130\n"
     ]
    }
   ],
   "source": [
    "import tensorflow as tf\n",
    "\n",
    "# 定数を定義\n",
    "a = tf.constant(100)\n",
    "b = tf.constant(30)\n",
    "\n",
    "# 演算を定義しただけでここでは演算実施されない\n",
    "add_op = a + b\n",
    "\n",
    "# セッション開始\n",
    "# sessionコンストラクタでsessionオブジェクトを生成\n",
    "sess = tf.Session()\n",
    "# sessionオブジェクトのrun()メソッドで計算実行：run(演算)\n",
    "res = sess.run(add_op)\n",
    "print(res)"
   ]
  },
  {
   "cell_type": "code",
   "execution_count": 4,
   "metadata": {},
   "outputs": [
    {
     "name": "stdout",
     "output_type": "stream",
     "text": [
      "900\n"
     ]
    }
   ],
   "source": [
    "import tensorflow as tf\n",
    "a = tf.constant(10)\n",
    "b = tf.constant(20)\n",
    "c = tf.constant(30)\n",
    "\n",
    "# 演算を定義\n",
    "mul_op = (a + b) * c\n",
    "\n",
    "sess = tf.Session()\n",
    "res = sess.run(mul_op)\n",
    "print(res)"
   ]
  },
  {
   "cell_type": "code",
   "execution_count": null,
   "metadata": {
    "collapsed": true
   },
   "outputs": [],
   "source": []
  }
 ],
 "metadata": {
  "kernelspec": {
   "display_name": "Python 3",
   "language": "python",
   "name": "python3"
  },
  "language_info": {
   "codemirror_mode": {
    "name": "ipython",
    "version": 3
   },
   "file_extension": ".py",
   "mimetype": "text/x-python",
   "name": "python",
   "nbconvert_exporter": "python",
   "pygments_lexer": "ipython3",
   "version": "3.6.2"
  }
 },
 "nbformat": 4,
 "nbformat_minor": 2
}
