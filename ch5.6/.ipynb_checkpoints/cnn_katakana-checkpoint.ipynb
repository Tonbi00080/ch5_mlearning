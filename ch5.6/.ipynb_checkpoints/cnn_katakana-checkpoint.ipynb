{
 "cells": [
  {
   "cell_type": "code",
   "execution_count": 5,
   "metadata": {},
   "outputs": [
    {
     "name": "stdout",
     "output_type": "stream",
     "text": [
      "Train on 55309 samples, validate on 13828 samples\n",
      "Epoch 1/5\n",
      "55309/55309 [==============================] - 89s 2ms/step - loss: nan - acc: 0.0299 - val_loss: nan - val_acc: 0.0201\n",
      "Epoch 2/5\n",
      "55309/55309 [==============================] - 88s 2ms/step - loss: nan - acc: 0.0205 - val_loss: nan - val_acc: 0.0201\n",
      "Epoch 3/5\n",
      "55309/55309 [==============================] - 86s 2ms/step - loss: nan - acc: 0.0205 - val_loss: nan - val_acc: 0.0201\n",
      "Epoch 4/5\n",
      "55309/55309 [==============================] - 87s 2ms/step - loss: nan - acc: 0.0205 - val_loss: nan - val_acc: 0.0201\n",
      "Epoch 5/5\n",
      "55309/55309 [==============================] - 88s 2ms/step - loss: nan - acc: 0.0205 - val_loss: nan - val_acc: 0.0201\n",
      "13828/13828 [==============================] - 6s 421us/step\n",
      "正解率= 0.020104136534567545 loss= nan\n"
     ]
    },
    {
     "data": {
      "image/png": "[encoded data removed]",
      "text/plain": [
       "<matplotlib.figure.Figure at 0x12c392a20>"
      ]
     },
     "metadata": {},
     "output_type": "display_data"
    },
    {
     "data": {
      "image/png": "[encoded data removed]",
      "text/plain": [
       "<matplotlib.figure.Figure at 0x12a41d240>"
      ]
     },
     "metadata": {},
     "output_type": "display_data"
    }
   ],
   "source": [
    "import numpy as np\n",
    "import cv2, pickle\n",
    "from sklearn.model_selection import train_test_split\n",
    "import keras\n",
    "from keras.models import Sequential\n",
    "from keras.layers import Dense, Dropout, Flatten, Conv2D, MaxPooling2D\n",
    "from keras.optimizers import RMSprop\n",
    "from keras.datasets import mnist\n",
    "import matplotlib.pyplot as plt\n",
    "\n",
    "# データファイル\n",
    "data_file = \"./png-etl1/katakana.pickle\"\n",
    "# 入力データの数\n",
    "im_size = 25\n",
    "# 出力データの数\n",
    "out_size = 46 # ア〜ン\n",
    "# 画像の色空間（グレイスケール）\n",
    "im_color = 1\n",
    "in_shape = (im_size,im_size, im_color)\n",
    "\n",
    "# 保存した画像データの一覧読み込む\n",
    "data = pickle.load(open(data_file,\"rb\"))\n",
    "\n",
    "# 画像データの画素を0-1の範囲の実数に変換\n",
    "y = []\n",
    "x = []\n",
    "for d in data:\n",
    "    # pickleされた数字と画像のデータ\n",
    "    (num, img) = d\n",
    "    # reshape()で画素を一列に、最大値の２５５でわる\n",
    "    img = img.reshape(im_size, im_size, im_color).astype('float') / 255\n",
    "    y.append(keras.utils.np_utils.to_categorical(num, out_size))\n",
    "    x.append(img)\n",
    "x = np.array(x)\n",
    "y = np.array(y)\n",
    "\n",
    "# 学習用とテスト用に分類\n",
    "x_train, x_test, y_train, y_test = train_test_split(x, y, test_size = 0.2, train_size = 0.8, shuffle = True)\n",
    "\n",
    "# モデル定義 複雑なCNN\n",
    "model = Sequential()\n",
    "# 畳み込み層\n",
    "model.add(Conv2D(32, kernel_size=(3,3), activation='relu', input_shape=in_shape))\n",
    "model.add(Conv2D(64, (3,3), activation='relu'))\n",
    "# プーリング層\n",
    "model.add(MaxPooling2D(pool_size = (2,2)))\n",
    "model.add(Dropout(0.25))\n",
    "model.add(Flatten())\n",
    "model.add(Dense(128,activation='relu'))\n",
    "model.add(Dropout(0.5))\n",
    "model.add(Dense(out_size,activation='relu'))\n",
    "\n",
    "# モデルコンパイル\n",
    "model.compile(loss = 'categorical_crossentropy', optimizer=RMSprop(), metrics=['accuracy'])\n",
    "\n",
    "hist = model.fit(x_train, y_train,batch_size = 128,epochs = 5, verbose =1,\n",
    "         validation_data = (x_test, y_test))\n",
    "\n",
    "\n",
    "# モデル評価\n",
    "score = model.evaluate(x_test, y_test, verbose =1)\n",
    "print('正解率=', score[1],'loss=', score[0])\n",
    "\n",
    "# 学習の様子をグラフへ描画\n",
    "plt.plot(hist.history['acc'])\n",
    "plt.plot(hist.history['val_acc'])\n",
    "plt.title('Accuracy')\n",
    "plt.legend(['train','test'], loc = 'upper left')\n",
    "plt.show()\n",
    "plt.plot(hist.history['loss'])\n",
    "plt.plot(hist.history['val_loss'])\n",
    "plt.title('Loss')\n",
    "plt.legend(['train','test'], loc = 'upper left')\n",
    "plt.show()"
   ]
  },
  {
   "cell_type": "code",
   "execution_count": null,
   "metadata": {},
   "outputs": [],
   "source": []
  }
 ],
 "metadata": {
  "kernelspec": {
   "display_name": "Python 3",
   "language": "python",
   "name": "python3"
  },
  "language_info": {
   "codemirror_mode": {
    "name": "ipython",
    "version": 3
   },
   "file_extension": ".py",
   "mimetype": "text/x-python",
   "name": "python",
   "nbconvert_exporter": "python",
   "pygments_lexer": "ipython3",
   "version": "3.5.4"
  }
 },
 "nbformat": 4,
 "nbformat_minor": 2
}
