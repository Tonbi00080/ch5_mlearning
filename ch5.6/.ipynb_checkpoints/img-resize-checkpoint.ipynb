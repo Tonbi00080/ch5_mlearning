{
 "cells": [
  {
   "cell_type": "code",
   "execution_count": null,
   "metadata": {},
   "outputs": [],
   "source": [
    "import glob\n",
    "import cv2\n",
    "import numpy as np\n",
    "import pickle\n",
    "import matplotlib.pyplot as plt\n",
    "\n",
    "# 保存先や画像サイズの指定\n",
    "out_dir = \"./png-etl1\"\n",
    "im_size = 25 \n",
    "save_file = out_dir + \"/katakana.pickle\" # 保存先\n",
    "plt.figure(figsize=(9,17)) #出力画像を大きくする figsizeはインチ\n",
    "\n",
    "# カタカナの画像が入っているディレクトリから画像を取得\n",
    "kanadir = list(range(177, 220 +1)) # ア〜ワ\n",
    "kanadir.append(166) # ヲ\n",
    "kanadir.append(221) # ン\n",
    "result = []\n",
    "# enumerate インデックス、イテラブルオブジェクトの要素を返す\n",
    "for i, code in enumerate(kanadir) :\n",
    "    img_dir = out_dir + \"/\" + str(code)\n",
    "    fs = glob.glob(img_dir + \"/*\")\n",
    "    print(\"dir=\", img_dir)\n",
    "    # 画像を読み、グレースケールに変換＋リサイズ\n",
    "    for j, f in enumerate(fs) :\n",
    "        img = cv2.imread(f)\n",
    "        img_gray = cv2.cvtColor(img, cv2.COLOR_BGR2GRAY)\n",
    "        img = cv2.resize(img_gray, (im_size, im_size))\n",
    "        result.append([i, img])\n",
    "        # jupyter notebookで画像出力\n",
    "        if j == 3:\n",
    "            plt.subplot(11,5, i + 1)\n",
    "            plt.axis(\"off\")\n",
    "            plt.title(str(i))\n",
    "            plt.imshow(img, cmap = 'gray')\n",
    "# ラベルと画像データ保存\n",
    "# pickle.dump（登録オブジェクト,ファイル名）\n",
    "pickle.dump(result, open(save_file, 'wb'))\n",
    "plt.show()\n",
    "print(\"ok\")"
   ]
  },
  {
   "cell_type": "code",
   "execution_count": null,
   "metadata": {},
   "outputs": [],
   "source": []
  }
 ],
 "metadata": {
  "kernelspec": {
   "display_name": "Python 3",
   "language": "python",
   "name": "python3"
  },
  "language_info": {
   "codemirror_mode": {
    "name": "ipython",
    "version": 3
   },
   "file_extension": ".py",
   "mimetype": "text/x-python",
   "name": "python",
   "nbconvert_exporter": "python",
   "pygments_lexer": "ipython3",
   "version": "3.5.4"
  }
 },
 "nbformat": 4,
 "nbformat_minor": 2
}
