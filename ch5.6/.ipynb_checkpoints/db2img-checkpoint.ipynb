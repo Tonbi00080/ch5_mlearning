{
 "cells": [
  {
   "cell_type": "code",
   "execution_count": 12,
   "metadata": {},
   "outputs": [
    {
     "name": "stdout",
     "output_type": "stream",
     "text": [
      "ETL1/ETL1C_08\n",
      "ETL1/ETL1C_01\n",
      "ETL1/ETL1C_06\n",
      "ETL1/ETL1C_07\n",
      "ETL1/ETL1C_09\n",
      "ETL1/ETL1C_13\n",
      "ETL1/ETL1C_12\n",
      "ETL1/ETL1C_05\n",
      "ETL1/ETL1C_02\n",
      "ETL1/ETL1C_03\n",
      "ETL1/ETL1C_04\n",
      "ETL1/ETL1C_10\n",
      "ETL1/ETL1C_11\n",
      "OK\n"
     ]
    }
   ],
   "source": [
    "# バイナリデータ扱うモジュール\n",
    "import struct\n",
    "from PIL import Image, ImageEnhance\n",
    "import glob, os\n",
    "\n",
    "# 出力ディレクトリ\n",
    "outdir = \"png-etl1/\"\n",
    "if not os.path.exists(outdir) : os.mkdir(outdir)\n",
    "\n",
    "# ETL1ディレクトリ以下のファイルを処理する\n",
    "files = glob.glob(\"ETL1/*\")\n",
    "for fname in files :\n",
    "    # 情報ファイルは飛ばす\n",
    "    if fname == \"ETL1/ETL1INFO\" : continue\n",
    "    print(fname)\n",
    "    # ETL1のデータファイルを開く（バイナリ読み込み）\n",
    "    f = open(fname, 'rb')\n",
    "    # ファイルの先頭にポインタセット\n",
    "    f.seek(0)\n",
    "    while True : \n",
    "        # メタデータ＋画像の組みを一つずつ読む（各データは2052バイトの固定長）\n",
    "        s = f.read(2052)\n",
    "        if not s : break\n",
    "        # バイナリデータをPythonで読めるように抽出\n",
    "        r = struct.unpack('>H2sH6BI4H4B4x2016s4x', s)\n",
    "        code_ascii = r[1] #s(char)\n",
    "        code_jis = r[3]\n",
    "        # 画像データを取り出す　fなのでfloat bit point型\n",
    "        # r[18]：？\n",
    "        # PIL.Image.frombytes(mode, size, data, decoder_name='raw', *args)　　args decodeのパラメータ\n",
    "        iF = Image.frombytes('F', (64,63), r[18] , 'bit', 4)\n",
    "        print(iF.shape)\n",
    "        #グレースケールに変換\n",
    "        iP = iF.convert('L')\n",
    "        # 画像を鮮明にして保存\n",
    "        dir = outdir + \"/\" + str(code_jis)\n",
    "        if not os.path.exists(dir) : os.mkdir(dir)\n",
    "        # r[0]:H(Integer),r[2]:s(char)\n",
    "        # formatあとの引数を順位に0,1,2のとこに入れる\n",
    "        fn = \"{0:02x}-{1:02x}{2:04x}.png\".format(code_jis, r[0],r[2])\n",
    "        fullpath = dir + \"/\" + fn\n",
    "        if os.path.exists(fullpath) : continue\n",
    "        # 明るさ調整\n",
    "        enhancer = ImageEnhance.Brightness(iP)\n",
    "        # 鮮明に 1だと元画像と同じ\n",
    "        iE = enhancer.enhance(16)\n",
    "        iE.save(fullpath, 'PNG')\n",
    "print(\"OK\")"
   ]
  },
  {
   "cell_type": "code",
   "execution_count": null,
   "metadata": {},
   "outputs": [],
   "source": []
  }
 ],
 "metadata": {
  "kernelspec": {
   "display_name": "Python 3",
   "language": "python",
   "name": "python3"
  },
  "language_info": {
   "codemirror_mode": {
    "name": "ipython",
    "version": 3
   },
   "file_extension": ".py",
   "mimetype": "text/x-python",
   "name": "python",
   "nbconvert_exporter": "python",
   "pygments_lexer": "ipython3",
   "version": "3.5.4"
  }
 },
 "nbformat": 4,
 "nbformat_minor": 2
}
