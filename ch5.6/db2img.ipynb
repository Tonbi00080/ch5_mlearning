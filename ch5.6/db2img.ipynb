{
 "cells": [
  {
   "cell_type": "code",
   "execution_count": 13,
   "metadata": {},
   "outputs": [
    {
     "name": "stdout",
     "output_type": "stream",
     "text": [
      "ETL1/ETL1C_08\n"
     ]
    },
    {
     "ename": "AttributeError",
     "evalue": "'Image' object has no attribute 'shape'",
     "output_type": "error",
     "traceback": [
      "\u001b[0;31m-----------------------------------------------------------------\u001b[0m",
      "\u001b[0;31mAttributeError\u001b[0m                  Traceback (most recent call last)",
      "\u001b[0;32m<ipython-input-13-a1ea930f087e>\u001b[0m in \u001b[0;36m<module>\u001b[0;34m()\u001b[0m\n\u001b[1;32m     30\u001b[0m         \u001b[0;31m# PIL.Image.frombytes(mode, size, data, decoder_name='raw', *args)　　args decodeのパラメータ\u001b[0m\u001b[0;34m\u001b[0m\u001b[0;34m\u001b[0m\u001b[0m\n\u001b[1;32m     31\u001b[0m         \u001b[0miF\u001b[0m \u001b[0;34m=\u001b[0m \u001b[0mImage\u001b[0m\u001b[0;34m.\u001b[0m\u001b[0mfrombytes\u001b[0m\u001b[0;34m(\u001b[0m\u001b[0;34m'F'\u001b[0m\u001b[0;34m,\u001b[0m \u001b[0;34m(\u001b[0m\u001b[0;36m64\u001b[0m\u001b[0;34m,\u001b[0m\u001b[0;36m63\u001b[0m\u001b[0;34m)\u001b[0m\u001b[0;34m,\u001b[0m \u001b[0mr\u001b[0m\u001b[0;34m[\u001b[0m\u001b[0;36m18\u001b[0m\u001b[0;34m]\u001b[0m \u001b[0;34m,\u001b[0m \u001b[0;34m'bit'\u001b[0m\u001b[0;34m,\u001b[0m \u001b[0;36m4\u001b[0m\u001b[0;34m)\u001b[0m\u001b[0;34m\u001b[0m\u001b[0m\n\u001b[0;32m---> 32\u001b[0;31m         \u001b[0mprint\u001b[0m\u001b[0;34m(\u001b[0m\u001b[0miF\u001b[0m\u001b[0;34m.\u001b[0m\u001b[0mshape\u001b[0m\u001b[0;34m)\u001b[0m\u001b[0;34m\u001b[0m\u001b[0m\n\u001b[0m\u001b[1;32m     33\u001b[0m         \u001b[0;31m#グレースケールに変換\u001b[0m\u001b[0;34m\u001b[0m\u001b[0;34m\u001b[0m\u001b[0m\n\u001b[1;32m     34\u001b[0m         \u001b[0miP\u001b[0m \u001b[0;34m=\u001b[0m \u001b[0miF\u001b[0m\u001b[0;34m.\u001b[0m\u001b[0mconvert\u001b[0m\u001b[0;34m(\u001b[0m\u001b[0;34m'L'\u001b[0m\u001b[0;34m)\u001b[0m\u001b[0;34m\u001b[0m\u001b[0m\n",
      "\u001b[0;31mAttributeError\u001b[0m: 'Image' object has no attribute 'shape'"
     ]
    }
   ],
   "source": [
    "# バイナリデータ扱うモジュール\n",
    "import struct\n",
    "from PIL import Image, ImageEnhance\n",
    "import glob, os\n",
    "\n",
    "# 出力ディレクトリ\n",
    "outdir = \"png-etl1/\"\n",
    "if not os.path.exists(outdir) : os.mkdir(outdir)\n",
    "\n",
    "# ETL1ディレクトリ以下のファイルを処理する\n",
    "files = glob.glob(\"ETL1/*\")\n",
    "for fname in files :\n",
    "    # 情報ファイルは飛ばす\n",
    "    if fname == \"ETL1/ETL1INFO\" : continue\n",
    "    print(fname)\n",
    "    # ETL1のデータファイルを開く（バイナリ読み込み）\n",
    "    f = open(fname, 'rb')\n",
    "    # ファイルの先頭にポインタセット\n",
    "    f.seek(0)\n",
    "    while True : \n",
    "        # メタデータ＋画像の組みを一つずつ読む（各データは2052バイトの固定長）\n",
    "        s = f.read(2052)\n",
    "        if not s : break\n",
    "        # バイナリデータをPythonで読めるように抽出\n",
    "        r = struct.unpack('>H2sH6BI4H4B4x2016s4x', s)\n",
    "        code_ascii = r[1] #s(char)\n",
    "        code_jis = r[3]\n",
    "        # 画像データを取り出す　fなのでfloat bit point型\n",
    "        # r[18]：？\n",
    "        # PIL.Image.frombytes(mode, size, data, decoder_name='raw', *args)　　args decodeのパラメータ\n",
    "        iF = Image.frombytes('F', (64,63), r[18] , 'bit', 4)\n",
    "        #グレースケールに変換\n",
    "        iP = iF.convert('L')\n",
    "        # 画像を鮮明にして保存\n",
    "        dir = outdir + \"/\" + str(code_jis)\n",
    "        if not os.path.exists(dir) : os.mkdir(dir)\n",
    "        # r[0]:H(Integer),r[2]:s(char)\n",
    "        # formatあとの引数を順位に0,1,2のとこに入れる\n",
    "        fn = \"{0:02x}-{1:02x}{2:04x}.png\".format(code_jis, r[0],r[2])\n",
    "        fullpath = dir + \"/\" + fn\n",
    "        if os.path.exists(fullpath) : continue\n",
    "        # 明るさ調整\n",
    "        enhancer = ImageEnhance.Brightness(iP)\n",
    "        # 鮮明に 1だと元画像と同じ\n",
    "        iE = enhancer.enhance(16)\n",
    "        iE.save(fullpath, 'PNG')\n",
    "print(\"OK\")"
   ]
  },
  {
   "cell_type": "code",
   "execution_count": null,
   "metadata": {},
   "outputs": [],
   "source": []
  }
 ],
 "metadata": {
  "kernelspec": {
   "display_name": "Python 3",
   "language": "python",
   "name": "python3"
  },
  "language_info": {
   "codemirror_mode": {
    "name": "ipython",
    "version": 3
   },
   "file_extension": ".py",
   "mimetype": "text/x-python",
   "name": "python",
   "nbconvert_exporter": "python",
   "pygments_lexer": "ipython3",
   "version": "3.5.4"
  }
 },
 "nbformat": 4,
 "nbformat_minor": 2
}
