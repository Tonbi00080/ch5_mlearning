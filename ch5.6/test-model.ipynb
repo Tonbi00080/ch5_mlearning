{
 "cells": [
  {
   "cell_type": "code",
   "execution_count": 31,
   "metadata": {},
   "outputs": [
    {
     "name": "stdout",
     "output_type": "stream",
     "text": [
      "Train on 55309 samples, validate on 13828 samples\n",
      "Epoch 1/5\n",
      "55309/55309 [==============================] - 14s 262us/step - loss: 2.2237 - acc: 0.4342 - val_loss: 1.4490 - val_acc: 0.6204\n",
      "Epoch 2/5\n",
      "55309/55309 [==============================] - 14s 254us/step - loss: 1.0144 - acc: 0.7358 - val_loss: 0.8302 - val_acc: 0.7801\n",
      "Epoch 3/5\n",
      "55309/55309 [==============================] - 15s 266us/step - loss: 0.6632 - acc: 0.8253 - val_loss: 0.6317 - val_acc: 0.8293\n",
      "Epoch 4/5\n",
      "55309/55309 [==============================] - 14s 261us/step - loss: 0.5173 - acc: 0.8605 - val_loss: 0.5415 - val_acc: 0.8562\n",
      "Epoch 5/5\n",
      "55309/55309 [==============================] - 16s 293us/step - loss: 0.4244 - acc: 0.8846 - val_loss: 0.5035 - val_acc: 0.8606\n",
      "13828/13828 [==============================] - 1s 38us/step\n",
      "正解率= 0.8606450679780157 loss= 0.503535334795653\n"
     ]
    }
   ],
   "source": [
    "import numpy as np\n",
    "import cv2, pickle\n",
    "from sklearn.model_selection import train_test_split\n",
    "import keras\n",
    "\n",
    "# データファイル\n",
    "data_file = \"./png-etl1/katakana.pickle\"\n",
    "im_size = 25\n",
    "# 入力データの数\n",
    "in_size = im_size * im_size\n",
    "# 出力データの数\n",
    "out_size = 46 # ア〜ン\n",
    "\n",
    "# 保存した画像データの一覧読み込む\n",
    "data = pickle.load(open(data_file,\"rb\"))\n",
    "\n",
    "# 画像データの画素を0-1の範囲の実数に変換\n",
    "y = []\n",
    "x = []\n",
    "for d in data:\n",
    "    # pickleされた数字と画像のデータ\n",
    "    (num, img) = d\n",
    "    # reshape(-1)で画素を一列に、最大値の２５５でわる\n",
    "    img = img.reshape(-1).astype('float') / 255\n",
    "    y.append(keras.utils.np_utils.to_categorical(num, out_size))\n",
    "    x.append(img)\n",
    "x = np.array(x)\n",
    "y = np.array(y)\n",
    "\n",
    "# 学習用とテスト用に分類\n",
    "x_train, x_test, y_train, y_test = train_test_split(x, y, test_size = 0.2, train_size = 0.8, shuffle = True)\n",
    "\n",
    "Dense = keras.layers.Dense\n",
    "model = keras.models.Sequential()\n",
    "model.add(Dense(512, activation = 'relu', input_shape=(in_size,)))\n",
    "model.add(Dense(out_size, activation = 'softmax'))\n",
    "\n",
    "# モデルをコンパイルして学習を実行\n",
    "model.compile(\n",
    "    loss = 'categorical_crossentropy',\n",
    "    optimizer = 'adam',\n",
    "    metrics = ['accuracy'])\n",
    "model.fit(x_train, y_train,batch_size = 20,epochs = 5, verbose =1,\n",
    "         validation_data = (x_test, y_test))\n",
    "\n",
    "# モデル評価\n",
    "score = model.evaluate(x_test, y_test, verbose =1)\n",
    "print('正解率=', score[1],'loss=', score[0])"
   ]
  },
  {
   "cell_type": "code",
   "execution_count": null,
   "metadata": {},
   "outputs": [],
   "source": []
  },
  {
   "cell_type": "code",
   "execution_count": null,
   "metadata": {},
   "outputs": [],
   "source": []
  }
 ],
 "metadata": {
  "kernelspec": {
   "display_name": "Python 3",
   "language": "python",
   "name": "python3"
  },
  "language_info": {
   "codemirror_mode": {
    "name": "ipython",
    "version": 3
   },
   "file_extension": ".py",
   "mimetype": "text/x-python",
   "name": "python",
   "nbconvert_exporter": "python",
   "pygments_lexer": "ipython3",
   "version": "3.5.4"
  }
 },
 "nbformat": 4,
 "nbformat_minor": 2
}
